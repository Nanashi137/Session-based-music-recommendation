{
 "cells": [
  {
   "cell_type": "code",
   "execution_count": null,
   "id": "5fc7c3da",
   "metadata": {},
   "outputs": [],
   "source": [
    "import os\n",
    "\n",
    "from torch.utils.data import DataLoader\n",
    "import torch\n",
    "\n",
    "from model import NARMWrapper\n",
    "from torch_dataset import RecsysDataset, RecsysCollateFunction\n",
    "\n",
    "from pytorch_lightning.loggers import MLFlowLogger\n",
    "from pytorch_lightning import Trainer, seed_everything\n",
    "from pytorch_lightning.callbacks import ModelCheckpoint\n",
    "from pytorch_lightning.callbacks import (\n",
    "    EarlyStopping,\n",
    "    LearningRateMonitor,\n",
    "    ModelCheckpoint,\n",
    "    ModelSummary,\n",
    "    StochasticWeightAveraging\n",
    ")\n"
   ]
  },
  {
   "cell_type": "code",
   "execution_count": null,
   "id": "ddbf069d",
   "metadata": {},
   "outputs": [],
   "source": [
    "# Initialize MLFlow Logger\n",
    "\n",
    "seed_everything(42) # Reproducibility purpose\n",
    "experiment_name = \"init_track_embedding\"\n",
    "run_name = f\"{experiment_name}_e32_l4\"\n",
    "tracking_uri = f\"file:experiments/{experiment_name}\"\n",
    "\n",
    "mlflow_logger = MLFlowLogger(\n",
    "    experiment_name=experiment_name,\n",
    "    run_name=run_name,\n",
    "    tracking_uri=tracking_uri\n",
    ")\n",
    "\n",
    "# Hyperparameters\n",
    "hparams = {\n",
    "    \"lr\": 3e-3,\n",
    "    \"embedding_dim\": 32,\n",
    "    \"hidden_size\": 32,\n",
    "    \"n_gru_layers\": 4,\n",
    "    \"n_items\": 345712,\n",
    "    \"padding_idx\": 345712,\n",
    "    \"embedding_matrix_path\": None,#\"data/vanilla_embeddings.npy\",\n",
    "    \"k\": 10,\n",
    "    \"batch_size\": 128,\n",
    "    \"epochs\": 20,\n",
    "    \"patience\": 3,\n",
    "}\n",
    "mlflow_logger.log_hyperparams(hparams)"
   ]
  },
  {
   "cell_type": "code",
   "execution_count": null,
   "id": "7d22c976",
   "metadata": {},
   "outputs": [],
   "source": [
    "# Data source \n",
    "root = \"./data\"\n",
    "session_data = \"split_session\"\n",
    "\n",
    "# Initialize dataloader\n",
    "train_ds = RecsysDataset(data_path=os.path.join(root, session_data, \"train.csv\"))\n",
    "val_ds   = RecsysDataset(data_path=os.path.join(root, session_data, \"val.csv\"))\n",
    "test_ds  = RecsysDataset(data_path=os.path.join(root, session_data, \"test.csv\"))\n",
    "\n",
    "collate_fn = RecsysCollateFunction(padding_idx=hparams[\"padding_idx\"])\n",
    "\n",
    "batch_size = hparams[\"batch_size\"]\n",
    "train_ld = DataLoader(dataset=train_ds, batch_size=batch_size, shuffle=True, num_workers=4, persistent_workers=True, collate_fn=collate_fn)\n",
    "val_ld   = DataLoader(dataset=val_ds, batch_size=batch_size, shuffle=False, num_workers=4, persistent_workers=True, collate_fn=collate_fn)\n",
    "test_ld  = DataLoader(dataset=test_ds, batch_size=batch_size, shuffle=False, num_workers=4, collate_fn=collate_fn)"
   ]
  },
  {
   "cell_type": "code",
   "execution_count": null,
   "id": "d805e004",
   "metadata": {},
   "outputs": [],
   "source": [
    "# Initialize model \n",
    "narm = NARMWrapper(embedding_dim=hparams[\"embedding_dim\"], \n",
    "                   hidden_size=hparams[\"hidden_size\"], \n",
    "                   n_gru_layers=hparams[\"n_gru_layers\"], \n",
    "                   n_items=hparams[\"n_items\"], \n",
    "                   padding_idx=hparams[\"padding_idx\"],\n",
    "                   embedding_matrix_path=hparams[\"embedding_matrix_path\"], \n",
    "                   lr=hparams[\"lr\"],\n",
    "                   k = hparams[\"k\"])"
   ]
  },
  {
   "cell_type": "code",
   "execution_count": null,
   "id": "087e9a06",
   "metadata": {},
   "outputs": [],
   "source": [
    "# Callbacks \n",
    "check_point_name = f\"best-checkpoint_{experiment_name}\"\n",
    "\n",
    "training_callbacks = [\n",
    "        EarlyStopping(monitor=\"val_loss\", mode=\"min\", patience=hparams['patience']),\n",
    "        StochasticWeightAveraging(swa_lrs=1e-2),\n",
    "        LearningRateMonitor(logging_interval=\"step\"),\n",
    "        ModelCheckpoint(\n",
    "            monitor=\"val_loss\",\n",
    "            mode=\"min\",\n",
    "            save_top_k=1,\n",
    "            dirpath=\"checkpoints/\",\n",
    "            filename=f\"best-checkpoint_{run_name}\"\n",
    "        ),\n",
    "        ModelSummary(-1)    \n",
    "    ]"
   ]
  },
  {
   "cell_type": "code",
   "execution_count": null,
   "id": "e741aa88",
   "metadata": {},
   "outputs": [],
   "source": [
    "# Training\n",
    "torch.cuda.empty_cache()  \n",
    "trainer = Trainer(\n",
    "    logger=mlflow_logger,\n",
    "    callbacks=training_callbacks,\n",
    "    max_epochs=hparams[\"epochs\"],\n",
    "    log_every_n_steps=1,\n",
    ")\n",
    "\n",
    "trainer.fit(model=narm,\n",
    "            train_dataloaders=train_ld,\n",
    "            val_dataloaders= val_ld, \n",
    "            ckpt_path=None)"
   ]
  },
  {
   "cell_type": "code",
   "execution_count": null,
   "id": "b362b060",
   "metadata": {},
   "outputs": [],
   "source": [
    "# Testing \n",
    "trainer.test(model=narm, \n",
    "        dataloaders=test_ld, \n",
    "        ckpt_path=None)"
   ]
  }
 ],
 "metadata": {
  "kernelspec": {
   "display_name": "Python 3",
   "language": "python",
   "name": "python3"
  },
  "language_info": {
   "codemirror_mode": {
    "name": "ipython",
    "version": 3
   },
   "file_extension": ".py",
   "mimetype": "text/x-python",
   "name": "python",
   "nbconvert_exporter": "python",
   "pygments_lexer": "ipython3",
   "version": "3.11.0"
  }
 },
 "nbformat": 4,
 "nbformat_minor": 5
}
